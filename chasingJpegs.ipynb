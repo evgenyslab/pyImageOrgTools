{
 "cells": [
  {
   "cell_type": "code",
   "execution_count": null,
   "metadata": {},
   "outputs": [],
   "source": [
    "import os\n",
    "import shutil\n",
    "import subprocess\n",
    "from datetime import datetime\n",
    "import warnings\n",
    "from PIL import Image\n",
    "import exifread"
   ]
  },
  {
   "cell_type": "code",
   "execution_count": null,
   "metadata": {},
   "outputs": [],
   "source": [
    "# set root folder:\n",
    "folder = \"/Users/en/Downloads/2018_bikealive\"\n",
    "# generate list of files with full paths:\n",
    "flist = []\n",
    "for (dirpath, dirnames, filenames) in os.walk(folder):\n",
    "    # for each file:\n",
    "    for f in filenames:\n",
    "        fpath = os.path.join(dirpath, f)\n",
    "        # ignore hidden files:\n",
    "        if f[0] != '.':\n",
    "            flist.append(fpath)"
   ]
  },
  {
   "cell_type": "code",
   "execution_count": null,
   "metadata": {},
   "outputs": [],
   "source": [
    "def getMDLSDatInfo(fileName):\n",
    "    cmd = \"mdls\"\\\n",
    "          \" -name kMDItemContentCreationDate\" \\\n",
    "          \" -name kMDItemContentModificationDate\" \\\n",
    "          \" -name kMDItemFSContentChangeDate\" \\\n",
    "          \" -name kMDItemFSCreationDate\" \\\n",
    "          \" '{:s}'\".format(fileName)\n",
    "    ret = subprocess.run(cmd,capture_output=True, shell=True)\n",
    "    # check for errors:\n",
    "    err = ret.stderr.decode('utf-8').split(\"\\n\")\n",
    "    if not err[0] == '':\n",
    "        raise Exception(err)\n",
    "    # parse \"ret\":\n",
    "    pOut = ret.stdout.decode('utf-8').split(\"\\n\")\n",
    "    output = {}\n",
    "    # get dates:\n",
    "    output['created'] = datetime.strptime(pOut[0].split(\"=\")[1], ' %Y-%m-%d %H:%M:%S %z')\n",
    "    output['modified'] = datetime.strptime(pOut[1].split(\"=\")[1], ' %Y-%m-%d %H:%M:%S %z')\n",
    "    output['file_changed'] = datetime.strptime(pOut[2].split(\"=\")[1], ' %Y-%m-%d %H:%M:%S %z')\n",
    "    output['file_created'] = datetime.strptime(pOut[3].split(\"=\")[1], ' %Y-%m-%d %H:%M:%S %z')\n",
    "    \n",
    "    return output"
   ]
  },
  {
   "cell_type": "code",
   "execution_count": null,
   "metadata": {},
   "outputs": [],
   "source": [
    "def getExifTags(filename=''):\n",
    "    if os.path.isfile(filename):\n",
    "        f = open(filename, 'rb')\n",
    "        tags = exifread.process_file(f)\n",
    "        outTags = {}\n",
    "        for tag in tags.keys():\n",
    "            if tag not in ('JPEGThumbnail', 'TIFFThumbnail', 'Filename', 'EXIF MakerNote'):\n",
    "#                 print(\"Key: {:s}, value {:s}\".format(tag, tags[tag].printable))\n",
    "                outTags[tag] = tags[tag]\n",
    "        f.close()\n",
    "        return tags\n",
    "    else:\n",
    "        return []"
   ]
  },
  {
   "cell_type": "code",
   "execution_count": null,
   "metadata": {},
   "outputs": [],
   "source": []
  },
  {
   "cell_type": "code",
   "execution_count": null,
   "metadata": {},
   "outputs": [],
   "source": [
    "## try for each file to read tags and get 'EXIF DateTimeOriginal'\n",
    "fmap = {}\n",
    "# set dst path:\n",
    "_dstPath = \"/Users/en/Downloads/2018_processed/\"\n",
    "for f in flist:\n",
    "    try:\n",
    "        # get path:\n",
    "        _path = ('/').join(f.split('/')[:-1]) + '/'\n",
    "        # get root file name:\n",
    "        _file = f.split('/')[-1]\n",
    "        # get extension\n",
    "        _, _ext = os.path.splitext(_file)\n",
    "        \n",
    "        \n",
    "        _tags = getExifTags(f)\n",
    "        _date = _tags['EXIF DateTimeOriginal'].printable + \" +00:00\"\n",
    "        d_created = datetime.strptime(_date, '%Y:%m:%d %H:%M:%S %z')\n",
    "        d_created_str = d_created.strftime(\"%Y_%m_%d-%H_%M_%S%z\")\n",
    "        \n",
    "        # src = f\n",
    "        # dst = _dstPath + d_created_str + _ext\n",
    "        _dst = _dstPath + d_created_str + _ext\n",
    "#         print(\"{:s} ::::===> {:s}\".format(f, _dst))\n",
    "        # map src to dst\n",
    "        fmap[f] = _dst\n",
    "    except Exception as E:\n",
    "        print(E)\n",
    "\n"
   ]
  },
  {
   "cell_type": "code",
   "execution_count": null,
   "metadata": {},
   "outputs": [],
   "source": [
    "# now check for duplicate targets:\n",
    "dsts = [fmap[k] for k in fmap]"
   ]
  },
  {
   "cell_type": "code",
   "execution_count": null,
   "metadata": {},
   "outputs": [],
   "source": [
    "flist"
   ]
  },
  {
   "cell_type": "code",
   "execution_count": null,
   "metadata": {},
   "outputs": [],
   "source": [
    "# do move...\n",
    "\n",
    "for ff in fmap:\n",
    "    src = ff\n",
    "    dst = fmap[ff]\n",
    "    # verify src exists\n",
    "    if not os.path.isfile(src):\n",
    "        raise Exception(\"source file {:s} doesnt exist!\\n\".format(src))\n",
    "    # check if dst already exists..\n",
    "    # check if dst file exists\n",
    "    duplicate = os.path.isfile(dst)\n",
    "    ii = 1\n",
    "    #if dst file exists, add postfix to file with increment\n",
    "    while (duplicate):\n",
    "        warnings.warn(\"desination file {:s} EXISTS from source: {:s}!\\n\".format(dst, src))\n",
    "        # split dst at extension and add postfix..\n",
    "        _b, _bext = os.path.splitext(dst)\n",
    "        dst = _b + \"_{:03d}\".format(ii) + _bext\n",
    "        duplicate = os.path.isfile(dst)\n",
    "        ii += 1\n",
    "    # do move\n",
    "    shutil.move(src,dst)"
   ]
  },
  {
   "cell_type": "code",
   "execution_count": null,
   "metadata": {},
   "outputs": [],
   "source": [
    "fmap"
   ]
  },
  {
   "cell_type": "code",
   "execution_count": null,
   "metadata": {},
   "outputs": [],
   "source": []
  }
 ],
 "metadata": {
  "kernelspec": {
   "display_name": "Python 3",
   "language": "python",
   "name": "python3"
  },
  "language_info": {
   "codemirror_mode": {
    "name": "ipython",
    "version": 3
   },
   "file_extension": ".py",
   "mimetype": "text/x-python",
   "name": "python",
   "nbconvert_exporter": "python",
   "pygments_lexer": "ipython3",
   "version": "3.7.6"
  }
 },
 "nbformat": 4,
 "nbformat_minor": 4
}
