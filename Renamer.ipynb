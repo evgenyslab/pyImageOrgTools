{
 "cells": [
  {
   "cell_type": "code",
   "execution_count": null,
   "metadata": {},
   "outputs": [],
   "source": [
    "import os\n",
    "import shutil\n",
    "import subprocess\n",
    "from datetime import datetime\n",
    "import warnings"
   ]
  },
  {
   "cell_type": "code",
   "execution_count": null,
   "metadata": {},
   "outputs": [],
   "source": [
    "# TODOs:\n",
    "# - crawl in directory provided (this will make it difficult for mdls command)\n",
    "# - handle folders with many files...\n",
    "# - MOV files need to be associated with their image files :( they are created at export time! FUCK\n",
    "# - sort / isolate duplicates"
   ]
  },
  {
   "cell_type": "code",
   "execution_count": null,
   "metadata": {},
   "outputs": [],
   "source": [
    "# set root folder:\n",
    "folder = \"/Volumes/EN480G/preProcessed/2020_01_19_export/\"\n",
    "# generate list of files with full paths:\n",
    "flist = []\n",
    "for (dirpath, dirnames, filenames) in os.walk(folder):\n",
    "    # for each file:\n",
    "    for f in filenames:\n",
    "        fpath = os.path.join(dirpath, f)\n",
    "        # ignore hidden files:\n",
    "        if f[0] != '.':\n",
    "            flist.append(fpath)"
   ]
  },
  {
   "cell_type": "code",
   "execution_count": null,
   "metadata": {},
   "outputs": [],
   "source": [
    "# for each file in its path, see if its got a matching one (or more)\n",
    "flistGrouped = []\n",
    "_tempflist = flist.copy()\n",
    "\n",
    "while _tempflist:\n",
    "    # pop first item out of _tempflist:\n",
    "    _file = _tempflist.pop(0)\n",
    "    _fname = _file.split('/')[-1]\n",
    "    _fnameBase = _fname.split('.')[0]\n",
    "    group = [_file]\n",
    "    k = 0\n",
    "    while k != len(_tempflist):\n",
    "        _testFile = _tempflist[k]\n",
    "        _testfileName = _testFile.split('/')[-1]\n",
    "        _testfileNameBase = _testfileName.split('.')[0]\n",
    "        # if tested file matched _fnameBase, pop it, dont update k:\n",
    "        if _fnameBase == _testfileNameBase:\n",
    "            group.append(_testFile)\n",
    "            _tempflist.pop(k)\n",
    "        else:\n",
    "            k = k + 1\n",
    "    flistGrouped.append(group)"
   ]
  },
  {
   "cell_type": "code",
   "execution_count": null,
   "metadata": {},
   "outputs": [],
   "source": [
    "# At this point, flistGrouped is a set of images grouped by their names.\n",
    "# each index of listGrouped with 1 entry can be processed as usual, only need to look out for \n",
    "# jan 1 1970 create date\n",
    "singleInstances = []\n",
    "groupInstances = []\n",
    "for _item in flistGrouped:\n",
    "    if len(_item)==1:\n",
    "        singleInstances.append(_item)\n",
    "    else:\n",
    "        groupInstances.append(_item)\n",
    "            "
   ]
  },
  {
   "cell_type": "code",
   "execution_count": null,
   "metadata": {},
   "outputs": [],
   "source": [
    "\"\"\"\n",
    "For each item in single instance, get mdls data...\n",
    "\"\"\"\n",
    "singleMapping = []\n",
    "singleMapping_undetermined = []\n",
    "for _item in singleInstances:\n",
    "    _name = _item[0]\n",
    "    # make the filename mdls query friendly...\n",
    "    qfile = _name\n",
    "    cmd = \"mdls\"\\\n",
    "          \" -name kMDItemContentCreationDate\" \\\n",
    "          \" -name kMDItemContentModificationDate\" \\\n",
    "          \" -name kMDItemFSContentChangeDate\" \\\n",
    "          \" -name kMDItemFSCreationDate\" \\\n",
    "          \" '{:s}'\".format(qfile)\n",
    "    ret = subprocess.run(cmd,capture_output=True, shell=True)\n",
    "    # check for errors:\n",
    "    err = ret.stderr.decode('utf-8').split(\"\\n\")\n",
    "    if not err[0] == '':\n",
    "        raise Exception(err)\n",
    "    # parse \"ret\":\n",
    "    pOut = ret.stdout.decode('utf-8').split(\"\\n\")\n",
    "    # on mac; if any has \"null\" need to reindex drive using `sudo mdutil -E /Volume`\n",
    "    # get dates:\n",
    "    d_created = datetime.strptime(pOut[0].split(\"=\")[1], ' %Y-%m-%d %H:%M:%S %z')\n",
    "    d_createdMod = datetime.strptime(pOut[1].split(\"=\")[1], ' %Y-%m-%d %H:%M:%S %z')\n",
    "    d_FileChanged = datetime.strptime(pOut[2].split(\"=\")[1], ' %Y-%m-%d %H:%M:%S %z')\n",
    "    d_FileCreated = datetime.strptime(pOut[3].split(\"=\")[1], ' %Y-%m-%d %H:%M:%S %z')\n",
    "\n",
    "    if d_FileCreated.year == 1970:\n",
    "        # need to ignore this...\n",
    "        pass\n",
    "\n",
    "    # create object:\n",
    "    fObj = {}\n",
    "    fObj['filePath'] = _name\n",
    "    fObj['ext'] = _name.split('.')[-1]\n",
    "    fObj['dstName'] = d_created.strftime(\"%Y_%m_%d-%H_%M_%S%z\")\n",
    "    fObj['dCC'] = d_created;\n",
    "    fObj['dCM'] = d_createdMod;\n",
    "    fObj['dFC'] = d_FileCreated;\n",
    "    fObj['dFCC'] = d_FileChanged;\n",
    "    singleMapping.append(fObj)\n",
    "\n",
    "# create date object with specific time:\n",
    "_dl = datetime.strptime(\"2020-01-15_23-00 +0000\", '%Y-%m-%d_%H-%M %z')\n",
    "_du = datetime.strptime(\"2020-01-15_23-59 +0000\", '%Y-%m-%d_%H-%M %z')"
   ]
  },
  {
   "cell_type": "code",
   "execution_count": null,
   "metadata": {},
   "outputs": [],
   "source": [
    "def getMDLSDatInfo(fileName):\n",
    "    cmd = \"mdls\"\\\n",
    "          \" -name kMDItemContentCreationDate\" \\\n",
    "          \" -name kMDItemContentModificationDate\" \\\n",
    "          \" -name kMDItemFSContentChangeDate\" \\\n",
    "          \" -name kMDItemFSCreationDate\" \\\n",
    "          \" '{:s}'\".format(fileName)\n",
    "    ret = subprocess.run(cmd,capture_output=True, shell=True)\n",
    "    # check for errors:\n",
    "    err = ret.stderr.decode('utf-8').split(\"\\n\")\n",
    "    if not err[0] == '':\n",
    "        raise Exception(err)\n",
    "    # parse \"ret\":\n",
    "    pOut = ret.stdout.decode('utf-8').split(\"\\n\")\n",
    "    output = {}\n",
    "    # get dates:\n",
    "    output['created'] = datetime.strptime(pOut[0].split(\"=\")[1], ' %Y-%m-%d %H:%M:%S %z')\n",
    "    output['modified'] = datetime.strptime(pOut[1].split(\"=\")[1], ' %Y-%m-%d %H:%M:%S %z')\n",
    "    output['file_changed'] = datetime.strptime(pOut[2].split(\"=\")[1], ' %Y-%m-%d %H:%M:%S %z')\n",
    "    output['file_created'] = datetime.strptime(pOut[3].split(\"=\")[1], ' %Y-%m-%d %H:%M:%S %z')\n",
    "    \n",
    "    return output"
   ]
  },
  {
   "cell_type": "code",
   "execution_count": null,
   "metadata": {},
   "outputs": [],
   "source": [
    "\"\"\"\n",
    "For each item in group instance, get mdls data...\n",
    "\"\"\"\n",
    "groupMapping = []\n",
    "for _items in groupInstances:\n",
    "    # should have one '.mov' and another not\n",
    "    _movFile = [i for i in _items if i.endswith('.mov')][0]\n",
    "    _imgFile = [i for i in _items if not i.endswith('.mov')][0]\n",
    "    \n",
    "    # get image date info:\n",
    "    _imgDateInfo = getMDLSDatInfo(_imgFile)\n",
    "    # get MOV date info:\n",
    "    _movDateInfo = getMDLSDatInfo(_imgFile)\n",
    "    # create Img object:\n",
    "    fObj = {}\n",
    "    fObj['filePath'] = _imgFile\n",
    "    fObj['ext'] = _imgFile.split('.')[-1]\n",
    "    fObj['dstName'] = _imgDateInfo['created'].strftime(\"%Y_%m_%d-%H_%M_%S%z\")\n",
    "    \n",
    "    fObjmov = {}\n",
    "    fObjmov['filePath'] = _movFile\n",
    "    fObjmov['ext'] = _movFile.split('.')[-1]\n",
    "    # check if MOV date created is newer than img:\n",
    "    if _movDateInfo['created'] > _imgDateInfo['created']:\n",
    "        # set movie filename destdate to that of img\n",
    "        fObjmov['dstName'] = _imgDateInfo['created'].strftime(\"%Y_%m_%d-%H_%M_%S%z\")\n",
    "    "
   ]
  },
  {
   "cell_type": "code",
   "execution_count": null,
   "metadata": {},
   "outputs": [],
   "source": []
  },
  {
   "cell_type": "code",
   "execution_count": null,
   "metadata": {},
   "outputs": [],
   "source": []
  },
  {
   "cell_type": "code",
   "execution_count": null,
   "metadata": {},
   "outputs": [],
   "source": []
  },
  {
   "cell_type": "code",
   "execution_count": null,
   "metadata": {},
   "outputs": [],
   "source": [
    "folder = \"/Volumes/EN480G/preProcessed/2020_01_19_export/\"\n",
    "listOfFiles = list()\n",
    "for (dirpath, dirnames, filenames) in os.walk(folder):\n",
    "    listOfFiles += [os.path.join(dirpath, file) for file in filenames]"
   ]
  },
  {
   "cell_type": "code",
   "execution_count": null,
   "metadata": {},
   "outputs": [],
   "source": [
    "\n",
    "folder_out = \"/Volumes/EN480G/postProcessed/\"\n",
    "files = os.listdir(folder)\n",
    "# get extensions:\n",
    "exts = set([f.split(\".\")[-1] for f in files])\n",
    "print(exts)\n",
    "ext_blacklist = ['db', 'ini', 'DS_Store', '_JUTCA~0', 'I7CIPB~N', 'LRV', 'THM', 'AAE']\n",
    "# since using shell to run command, need to make single query string:\n",
    "cmd = \"mdls -name kMDItemContentCreationDate \\\n",
    "       -name _kMDItemDisplayNameWithExtensions \\\n",
    "       {:s}*\".format(folder)"
   ]
  },
  {
   "cell_type": "code",
   "execution_count": null,
   "metadata": {},
   "outputs": [],
   "source": [
    "# run the command:\n",
    "ret = subprocess.run(cmd,capture_output=True, shell=True)\n",
    "# check for errors:\n",
    "err = ret.stderr.decode('utf-8').split(\"\\n\")\n",
    "if not err[0] == '':\n",
    "    raise Exception(err)"
   ]
  },
  {
   "cell_type": "code",
   "execution_count": null,
   "metadata": {},
   "outputs": [],
   "source": [
    "# decode the return byte string:\n",
    "ff = ret.stdout.decode('utf-8').split(\"\\n\")"
   ]
  },
  {
   "cell_type": "code",
   "execution_count": null,
   "metadata": {},
   "outputs": [],
   "source": [
    "fInfo = {}\n",
    "for k in range(0,len(ff)-1,2):\n",
    "    # file name in folder:\n",
    "    nn = ff[k].split(\"=\")[1].replace('\"', '').lstrip()\n",
    "    dd = datetime.strptime(ff[k+1].split(\"=\")[1], ' %Y-%m-%d %H:%M:%S %z')\n",
    "    # only grab files whose extensions are not in the black list\n",
    "    if not nn.split(\".\")[-1] in ext_blacklist:\n",
    "        fInfo[nn] = dd\n"
   ]
  },
  {
   "cell_type": "code",
   "execution_count": null,
   "metadata": {},
   "outputs": [],
   "source": [
    "for im in fInfo:\n",
    "    # move original from src to dst with new datestring\n",
    "    ext = im.split(\".\")[-1]\n",
    "    src = folder + im\n",
    "    dfile = fInfo[im].strftime(\"%Y_%m_%d-%H_%M_%S%z\") + \".\" + ext\n",
    "    dfolder = folder_out + str(fInfo[im].year) +\"/\"\n",
    "    if not os.path.isdir(dfolder):\n",
    "        os.mkdir(dfolder)\n",
    "    dst = dfolder + dfile\n",
    "    # verify correctness..\n",
    "    if not os.path.isfile(src):\n",
    "        raise Exception(\"source file {:s} doesnt exist!\\n\".format(src))\n",
    "    # check if dst file exists\n",
    "    duplicate = os.path.isfile(dst)\n",
    "    ii = 1\n",
    "    #if dst file exists, add postfix to file with increment\n",
    "    while (duplicate):\n",
    "        warnings.warn(\"desination file {:s} EXISTS from source: {:s}!\\n\".format(dst, src))\n",
    "        dst = dfolder + fInfo[im].strftime(\"%Y_%m_%d-%H_%M_%S%z\") + \"_{:03d}.\".format(ii) + ext\n",
    "        duplicate = os.path.isfile(dst)\n",
    "        ii += 1\n",
    "    # do move\n",
    "    shutil.move(src,dst)"
   ]
  },
  {
   "cell_type": "code",
   "execution_count": null,
   "metadata": {},
   "outputs": [],
   "source": []
  }
 ],
 "metadata": {
  "kernelspec": {
   "display_name": "Python 3",
   "language": "python",
   "name": "python3"
  },
  "language_info": {
   "codemirror_mode": {
    "name": "ipython",
    "version": 3
   },
   "file_extension": ".py",
   "mimetype": "text/x-python",
   "name": "python",
   "nbconvert_exporter": "python",
   "pygments_lexer": "ipython3",
   "version": "3.7.6"
  }
 },
 "nbformat": 4,
 "nbformat_minor": 4
}
